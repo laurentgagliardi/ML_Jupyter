{
 "cells": [
  {
   "cell_type": "markdown",
   "id": "acd2edd7",
   "metadata": {},
   "source": [
    "### Classification d'espèces d'Iris"
   ]
  },
  {
   "cell_type": "markdown",
   "id": "25e2d2db",
   "metadata": {},
   "source": [
    "L'objectif de ce notebook est la classification des espèces d'Iris en fonction de critères morphologiques liés aux fleurs (pétales et sépales). <br/>\n",
    "\n",
    "Nous allons utiliser deux algorithmes : KNN et Regression logistique."
   ]
  },
  {
   "cell_type": "markdown",
   "id": "2866a3cd",
   "metadata": {},
   "source": [
    "#### Présentation du dataset"
   ]
  },
  {
   "cell_type": "markdown",
   "id": "6f167740",
   "metadata": {},
   "source": [
    "Notre dataset contient 3 catégories correspondant chacune à une espèce d'Iris : versicolor, setosa ou verginica. <br/>\n",
    "\n",
    "Ce dataset contient également 4 features : longueur et largeur du pétale; longueur et largeur du sépale. <br/>\n",
    "Pour chaque plante, l'espèce à déjà été identifiée et est renseignée dans le dataset. <br/>\n",
    "\n",
    "La question est donc : Peut-on prédire l'espèce d'une nouvelle plante croisée, en fonction de ses mensurations florales ?"
   ]
  },
  {
   "cell_type": "markdown",
   "id": "04c1f3b0",
   "metadata": {},
   "source": [
    "<div>\n",
    "<img src=\"ressources/three-kinds.png\" width=\"700\"/>\n",
    "</div>"
   ]
  },
  {
   "cell_type": "markdown",
   "id": "abad1c22",
   "metadata": {},
   "source": [
    "<div>\n",
    "<img src=\"ressources/Iris-image.png\" width=\"500\"/>\n",
    "</div>"
   ]
  },
  {
   "cell_type": "markdown",
   "id": "1e391729",
   "metadata": {},
   "source": [
    "Les données sont sauvegardées dans un fichier \"iris.csv\"."
   ]
  },
  {
   "cell_type": "markdown",
   "id": "13b25dc2",
   "metadata": {},
   "source": [
    "<div>\n",
    "<img src=\"ressources/raw-data.png\" width=\"400\"/>\n",
    "</div>"
   ]
  },
  {
   "cell_type": "markdown",
   "id": "21f4342d",
   "metadata": {},
   "source": [
    "#### Chargement du dataset (Pandas)"
   ]
  },
  {
   "cell_type": "code",
   "execution_count": 2,
   "id": "4867da48",
   "metadata": {},
   "outputs": [],
   "source": [
    "import pandas as pd\n",
    "import numpy as np"
   ]
  },
  {
   "cell_type": "code",
   "execution_count": 3,
   "id": "21051776",
   "metadata": {},
   "outputs": [],
   "source": [
    "#Chargement des données dans un dataframe Iris \n",
    "iris = pd.read_csv('iris.csv')"
   ]
  },
  {
   "cell_type": "code",
   "execution_count": 4,
   "id": "2a784dbe",
   "metadata": {},
   "outputs": [
    {
     "data": {
      "text/html": [
       "<div>\n",
       "<style scoped>\n",
       "    .dataframe tbody tr th:only-of-type {\n",
       "        vertical-align: middle;\n",
       "    }\n",
       "\n",
       "    .dataframe tbody tr th {\n",
       "        vertical-align: top;\n",
       "    }\n",
       "\n",
       "    .dataframe thead th {\n",
       "        text-align: right;\n",
       "    }\n",
       "</style>\n",
       "<table border=\"1\" class=\"dataframe\">\n",
       "  <thead>\n",
       "    <tr style=\"text-align: right;\">\n",
       "      <th></th>\n",
       "      <th>sepal_length</th>\n",
       "      <th>sepal_width</th>\n",
       "      <th>petal_length</th>\n",
       "      <th>petal_width</th>\n",
       "      <th>species</th>\n",
       "    </tr>\n",
       "  </thead>\n",
       "  <tbody>\n",
       "    <tr>\n",
       "      <th>0</th>\n",
       "      <td>5.1</td>\n",
       "      <td>3.5</td>\n",
       "      <td>1.4</td>\n",
       "      <td>0.2</td>\n",
       "      <td>setosa</td>\n",
       "    </tr>\n",
       "    <tr>\n",
       "      <th>1</th>\n",
       "      <td>4.9</td>\n",
       "      <td>3.0</td>\n",
       "      <td>1.4</td>\n",
       "      <td>0.2</td>\n",
       "      <td>setosa</td>\n",
       "    </tr>\n",
       "    <tr>\n",
       "      <th>2</th>\n",
       "      <td>4.7</td>\n",
       "      <td>3.2</td>\n",
       "      <td>1.3</td>\n",
       "      <td>0.2</td>\n",
       "      <td>setosa</td>\n",
       "    </tr>\n",
       "    <tr>\n",
       "      <th>3</th>\n",
       "      <td>4.6</td>\n",
       "      <td>3.1</td>\n",
       "      <td>1.5</td>\n",
       "      <td>0.2</td>\n",
       "      <td>setosa</td>\n",
       "    </tr>\n",
       "    <tr>\n",
       "      <th>4</th>\n",
       "      <td>5.0</td>\n",
       "      <td>3.6</td>\n",
       "      <td>1.4</td>\n",
       "      <td>0.2</td>\n",
       "      <td>setosa</td>\n",
       "    </tr>\n",
       "  </tbody>\n",
       "</table>\n",
       "</div>"
      ],
      "text/plain": [
       "   sepal_length  sepal_width  petal_length  petal_width species\n",
       "0           5.1          3.5           1.4          0.2  setosa\n",
       "1           4.9          3.0           1.4          0.2  setosa\n",
       "2           4.7          3.2           1.3          0.2  setosa\n",
       "3           4.6          3.1           1.5          0.2  setosa\n",
       "4           5.0          3.6           1.4          0.2  setosa"
      ]
     },
     "execution_count": 4,
     "metadata": {},
     "output_type": "execute_result"
    }
   ],
   "source": [
    "# Affiche les premières lignes du dataset (par défaut 5)\n",
    "iris.head()"
   ]
  },
  {
   "cell_type": "code",
   "execution_count": 5,
   "id": "0b582f26",
   "metadata": {},
   "outputs": [
    {
     "name": "stdout",
     "output_type": "stream",
     "text": [
      "<class 'pandas.core.frame.DataFrame'>\n",
      "RangeIndex: 150 entries, 0 to 149\n",
      "Data columns (total 5 columns):\n",
      " #   Column        Non-Null Count  Dtype  \n",
      "---  ------        --------------  -----  \n",
      " 0   sepal_length  150 non-null    float64\n",
      " 1   sepal_width   150 non-null    float64\n",
      " 2   petal_length  150 non-null    float64\n",
      " 3   petal_width   150 non-null    float64\n",
      " 4   species       150 non-null    object \n",
      "dtypes: float64(4), object(1)\n",
      "memory usage: 6.0+ KB\n"
     ]
    }
   ],
   "source": [
    "# Liste des types de chaque colonnes, nombre de valeurs, et usage mémoire\n",
    "iris.info()"
   ]
  },
  {
   "cell_type": "code",
   "execution_count": 6,
   "id": "5e09b813",
   "metadata": {},
   "outputs": [
    {
     "data": {
      "text/plain": [
       "sepal_length    0\n",
       "sepal_width     0\n",
       "petal_length    0\n",
       "petal_width     0\n",
       "species         0\n",
       "dtype: int64"
      ]
     },
     "execution_count": 6,
     "metadata": {},
     "output_type": "execute_result"
    }
   ],
   "source": [
    "# Vérifie la présence de NULL\n",
    "iris.isnull().sum()\n",
    "# Au besoin : iris.dropna() supprime les lignes avec des valeurs NULL"
   ]
  },
  {
   "cell_type": "code",
   "execution_count": 7,
   "id": "bcbe5266",
   "metadata": {},
   "outputs": [
    {
     "name": "stdout",
     "output_type": "stream",
     "text": [
      "['setosa' 'versicolor' 'virginica']\n"
     ]
    }
   ],
   "source": [
    "# Affiche les valeurs uniques contenues dans la série 'species'\n",
    "categories = iris['species'].unique()\n",
    "print(categoriesries)"
   ]
  },
  {
   "cell_type": "code",
   "execution_count": 8,
   "id": "978deba6",
   "metadata": {},
   "outputs": [
    {
     "data": {
      "text/html": [
       "<div>\n",
       "<style scoped>\n",
       "    .dataframe tbody tr th:only-of-type {\n",
       "        vertical-align: middle;\n",
       "    }\n",
       "\n",
       "    .dataframe tbody tr th {\n",
       "        vertical-align: top;\n",
       "    }\n",
       "\n",
       "    .dataframe thead th {\n",
       "        text-align: right;\n",
       "    }\n",
       "</style>\n",
       "<table border=\"1\" class=\"dataframe\">\n",
       "  <thead>\n",
       "    <tr style=\"text-align: right;\">\n",
       "      <th></th>\n",
       "      <th>sepal_length</th>\n",
       "      <th>sepal_width</th>\n",
       "      <th>petal_length</th>\n",
       "      <th>petal_width</th>\n",
       "    </tr>\n",
       "  </thead>\n",
       "  <tbody>\n",
       "    <tr>\n",
       "      <th>count</th>\n",
       "      <td>150.000000</td>\n",
       "      <td>150.000000</td>\n",
       "      <td>150.000000</td>\n",
       "      <td>150.000000</td>\n",
       "    </tr>\n",
       "    <tr>\n",
       "      <th>mean</th>\n",
       "      <td>5.843333</td>\n",
       "      <td>3.054000</td>\n",
       "      <td>3.758667</td>\n",
       "      <td>1.198667</td>\n",
       "    </tr>\n",
       "    <tr>\n",
       "      <th>std</th>\n",
       "      <td>0.828066</td>\n",
       "      <td>0.433594</td>\n",
       "      <td>1.764420</td>\n",
       "      <td>0.763161</td>\n",
       "    </tr>\n",
       "    <tr>\n",
       "      <th>min</th>\n",
       "      <td>4.300000</td>\n",
       "      <td>2.000000</td>\n",
       "      <td>1.000000</td>\n",
       "      <td>0.100000</td>\n",
       "    </tr>\n",
       "    <tr>\n",
       "      <th>25%</th>\n",
       "      <td>5.100000</td>\n",
       "      <td>2.800000</td>\n",
       "      <td>1.600000</td>\n",
       "      <td>0.300000</td>\n",
       "    </tr>\n",
       "    <tr>\n",
       "      <th>50%</th>\n",
       "      <td>5.800000</td>\n",
       "      <td>3.000000</td>\n",
       "      <td>4.350000</td>\n",
       "      <td>1.300000</td>\n",
       "    </tr>\n",
       "    <tr>\n",
       "      <th>75%</th>\n",
       "      <td>6.400000</td>\n",
       "      <td>3.300000</td>\n",
       "      <td>5.100000</td>\n",
       "      <td>1.800000</td>\n",
       "    </tr>\n",
       "    <tr>\n",
       "      <th>max</th>\n",
       "      <td>7.900000</td>\n",
       "      <td>4.400000</td>\n",
       "      <td>6.900000</td>\n",
       "      <td>2.500000</td>\n",
       "    </tr>\n",
       "  </tbody>\n",
       "</table>\n",
       "</div>"
      ],
      "text/plain": [
       "       sepal_length  sepal_width  petal_length  petal_width\n",
       "count    150.000000   150.000000    150.000000   150.000000\n",
       "mean       5.843333     3.054000      3.758667     1.198667\n",
       "std        0.828066     0.433594      1.764420     0.763161\n",
       "min        4.300000     2.000000      1.000000     0.100000\n",
       "25%        5.100000     2.800000      1.600000     0.300000\n",
       "50%        5.800000     3.000000      4.350000     1.300000\n",
       "75%        6.400000     3.300000      5.100000     1.800000\n",
       "max        7.900000     4.400000      6.900000     2.500000"
      ]
     },
     "execution_count": 8,
     "metadata": {},
     "output_type": "execute_result"
    }
   ],
   "source": [
    "# Affiche des statistiques descriptives sur les colonnes\n",
    "iris.describe()"
   ]
  },
  {
   "cell_type": "markdown",
   "id": "f0f1fbd6",
   "metadata": {},
   "source": [
    "#### Visualisation des données"
   ]
  },
  {
   "cell_type": "code",
   "execution_count": 36,
   "id": "608defe8",
   "metadata": {},
   "outputs": [],
   "source": [
    "import matplotlib.pyplot as plt\n",
    "\n",
    "# Categorisation \n",
    "setosa = iris[iris[\"species\"]==\"setosa\"]\n",
    "versicolor = iris[iris[\"species\"]==\"versicolor\"]\n",
    "verginica = iris[iris[\"species\"]==\"virginica\"]"
   ]
  },
  {
   "cell_type": "code",
   "execution_count": 37,
   "id": "f6ba32dd",
   "metadata": {},
   "outputs": [
    {
     "data": {
      "image/png": "[encoded data removed]",
      "text/plain": [
       "<Figure size 432x288 with 1 Axes>"
      ]
     },
     "metadata": {
      "needs_background": "light"
     },
     "output_type": "display_data"
    }
   ],
   "source": [
    "plt.scatter(setosa.values[:, 0], setosa.values[:, 1],c=\"red\" )\n",
    "plt.scatter(versicolor.values[:, 0], versicolor.values[:, 1], c=\"blue\")\n",
    "plt.scatter(verginica.values[:,0], verginica.values[:,1], c=\"green\")\n",
    "plt.show()"
   ]
  },
  {
   "cell_type": "markdown",
   "id": "23c6822d",
   "metadata": {},
   "source": [
    "#### Séparation du dataset en jeu d'entrainement / jeu de validation"
   ]
  },
  {
   "cell_type": "markdown",
   "id": "2ce6fc81",
   "metadata": {},
   "source": [
    "Il faut au préalable ôter les labels précisant l'espèce à nos données, si on veut que notre modèle les prédisent. <br/>\n",
    "On va donc obtenir deux jeux de données : <br/>\n",
    "* x : 4 mesures florales.\n",
    "* y : labels de l'espèce."
   ]
  },
  {
   "cell_type": "code",
   "execution_count": 9,
   "id": "9fefacb8",
   "metadata": {},
   "outputs": [],
   "source": [
    "# Récupérer les colonnes 0 à 3 du dataset\n",
    "X = iris.iloc[:, 0:4]\n",
    "# Récupérer la colonne 4 du dataset\n",
    "y = iris.iloc[:,4]"
   ]
  },
  {
   "cell_type": "code",
   "execution_count": 10,
   "id": "10538453",
   "metadata": {},
   "outputs": [
    {
     "name": "stdout",
     "output_type": "stream",
     "text": [
      "<class 'pandas.core.frame.DataFrame'>\n",
      "RangeIndex: 150 entries, 0 to 149\n",
      "Data columns (total 4 columns):\n",
      " #   Column        Non-Null Count  Dtype  \n",
      "---  ------        --------------  -----  \n",
      " 0   sepal_length  150 non-null    float64\n",
      " 1   sepal_width   150 non-null    float64\n",
      " 2   petal_length  150 non-null    float64\n",
      " 3   petal_width   150 non-null    float64\n",
      "dtypes: float64(4)\n",
      "memory usage: 4.8 KB\n"
     ]
    }
   ],
   "source": [
    "X.info()"
   ]
  },
  {
   "cell_type": "markdown",
   "id": "1069e5f1",
   "metadata": {},
   "source": [
    "Vérifions le type de X et y : "
   ]
  },
  {
   "cell_type": "code",
   "execution_count": 11,
   "id": "b11669bb",
   "metadata": {},
   "outputs": [
    {
     "name": "stdout",
     "output_type": "stream",
     "text": [
      "X's type : <class 'pandas.core.frame.DataFrame'>\n",
      "y's type : <class 'pandas.core.series.Series'>\n"
     ]
    }
   ],
   "source": [
    "print(\"X's type : \" + str(type(X)))\n",
    "print(\"y's type : \" + str(type(y)))"
   ]
  },
  {
   "cell_type": "markdown",
   "id": "13bb4b86",
   "metadata": {},
   "source": [
    "On va effectuer le découpage train vs. test via une fonction hyper utile de sklearn : train_test_split. <br/>\n",
    "Cela split un array ou une matrice en des subsets aléatoires : train et test."
   ]
  },
  {
   "cell_type": "code",
   "execution_count": 25,
   "id": "4c87fe33",
   "metadata": {},
   "outputs": [],
   "source": [
    "from sklearn.model_selection import train_test_split\n",
    "\n",
    "X_train, X_test, y_train, y_test = train_test_split(X,y,test_size=0.3,random_state=0)\n",
    "# test_size définit la part de notre dataset qui sera dédié au test de notre modèle (entre 0 et 1)\n",
    "# random_state : seed permettant la reproductibilité des résultats"
   ]
  },
  {
   "cell_type": "code",
   "execution_count": 13,
   "id": "0fcb1d0f",
   "metadata": {},
   "outputs": [
    {
     "name": "stdout",
     "output_type": "stream",
     "text": [
      "X_train's shape(120, 4)\n",
      "y_train's shape(120,)\n",
      "X_test's shape(30, 4)\n",
      "y_test's shape(30,)\n"
     ]
    }
   ],
   "source": [
    "print(\"X_train's shape\" + str(X_train.shape))\n",
    "print(\"y_train's shape\" + str(y_train.shape))\n",
    "print(\"X_test's shape\" + str(X_test.shape))\n",
    "print(\"y_test's shape\" + str(y_test.shape))"
   ]
  },
  {
   "cell_type": "markdown",
   "id": "48c36bb3",
   "metadata": {},
   "source": [
    "#### Entrainement des modèles"
   ]
  },
  {
   "cell_type": "markdown",
   "id": "fc150454",
   "metadata": {},
   "source": [
    "##### Modèle n°1 : KNN (K nearest neighbors)"
   ]
  },
  {
   "cell_type": "code",
   "execution_count": 26,
   "id": "38927410",
   "metadata": {},
   "outputs": [
    {
     "data": {
      "text/plain": [
       "KNeighborsClassifier(n_neighbors=1)"
      ]
     },
     "execution_count": 26,
     "metadata": {},
     "output_type": "execute_result"
    }
   ],
   "source": [
    "from sklearn.neighbors import KNeighborsClassifier\n",
    "from sklearn import metrics\n",
    "\n",
    "# Crée une instance de l'algorithme KNN pour 1 voisin\n",
    "knn = KNeighborsClassifier(n_neighbors=1)\n",
    "# fit permet d'entrainer notre modèle aux données\n",
    "knn.fit(X_train,y_train)"
   ]
  },
  {
   "cell_type": "markdown",
   "id": "2a4cf859",
   "metadata": {},
   "source": [
    "Evaluer le modèle : "
   ]
  },
  {
   "cell_type": "code",
   "execution_count": 27,
   "id": "f999a8f0",
   "metadata": {},
   "outputs": [
    {
     "name": "stdout",
     "output_type": "stream",
     "text": [
      "Test set score : 0.98\n"
     ]
    }
   ],
   "source": [
    "# Prédiction des labels pour les échantillons contenus dans X_test\n",
    "y_knn = knn.predict(X_test)\n",
    "print(\"Test set score : {:.2f}\".format(knn.score(X_test,y_test)))"
   ]
  },
  {
   "cell_type": "markdown",
   "id": "9c7bfa95",
   "metadata": {},
   "source": [
    "L'exactitude de notre modèle est de 0.98 ; cela signifie que la prédiction a été correcte pour 98% des iris du jeu de test. <br/>\n",
    "\n",
    "Cela en fait donc un modèle crédible et pertinent à utiliser pour la reconnaissance des espèces d'Iris."
   ]
  },
  {
   "cell_type": "markdown",
   "id": "1b939e52",
   "metadata": {},
   "source": [
    "##### Modèle n°2 : Regression logistique"
   ]
  },
  {
   "cell_type": "code",
   "execution_count": 31,
   "id": "eb3f2065",
   "metadata": {},
   "outputs": [
    {
     "data": {
      "text/plain": [
       "LogisticRegression(solver='liblinear')"
      ]
     },
     "execution_count": 31,
     "metadata": {},
     "output_type": "execute_result"
    }
   ],
   "source": [
    "from sklearn.linear_model import LogisticRegression\n",
    "\n",
    "# Crée une instance de l'algorithme de regression linéaire\n",
    "logreg = LogisticRegression(solver='liblinear', multi_class='auto')\n",
    "# liblinear est un bon choix vu la petitesse de notre dataset\n",
    "\n",
    "logreg.fit(X_train, y_train)"
   ]
  },
  {
   "cell_type": "markdown",
   "id": "b0d334ba",
   "metadata": {},
   "source": [
    "<div>\n",
    "<img src=\"ressources/logisticR.png\" width=\"500\"/>\n",
    "</div>"
   ]
  },
  {
   "cell_type": "code",
   "execution_count": 32,
   "id": "c6b1c85d",
   "metadata": {},
   "outputs": [
    {
     "name": "stdout",
     "output_type": "stream",
     "text": [
      "0.8888888888888888\n"
     ]
    }
   ],
   "source": [
    "y_reglin = logreg.predict(X_test)\n",
    "print(metrics.accuracy_score(y_test, y_reglin))"
   ]
  },
  {
   "cell_type": "code",
   "execution_count": 34,
   "id": "dc890c46",
   "metadata": {},
   "outputs": [
    {
     "name": "stdout",
     "output_type": "stream",
     "text": [
      "[[16  0  0]\n",
      " [ 0 13  5]\n",
      " [ 0  0 11]]\n",
      "['setosa' 'versicolor' 'virginica']\n"
     ]
    }
   ],
   "source": [
    "from sklearn.metrics import confusion_matrix\n",
    "print(confusion_matrix(y_test, y_reglin))\n",
    "print(logreg.classes_)"
   ]
  },
  {
   "cell_type": "markdown",
   "id": "50178257",
   "metadata": {},
   "source": [
    "L'exactitude de notre modèle est de 0.89 ; cela signifie que la prédiction a été correcte pour 89% des iris du jeu de test. <br/>\n",
    "Ce modèle s'en sort plutôt bien pour classifier nos Iris, mais nous avons vu que notre KNN obtenait un score bien meilleur... <br/>\n",
    "\n",
    "Une des questions à se poser : notre modèle KNN est-il un meilleur prédicteur des espèces d'Iris ? Y a-t-il un overfitting (surapprentissage) des données ? <br/>\n",
    "On se pose en fait la question de la capacité de notre algorithme à généraliser ! Pourra-t-il s'en sortir aussi bien sur d'autres données ?"
   ]
  }
 ],
 "metadata": {
  "kernelspec": {
   "display_name": "Python 3",
   "language": "python",
   "name": "python3"
  },
  "language_info": {
   "codemirror_mode": {
    "name": "ipython",
    "version": 3
   },
   "file_extension": ".py",
   "mimetype": "text/x-python",
   "name": "python",
   "nbconvert_exporter": "python",
   "pygments_lexer": "ipython3",
   "version": "3.8.8"
  }
 },
 "nbformat": 4,
 "nbformat_minor": 5
}
